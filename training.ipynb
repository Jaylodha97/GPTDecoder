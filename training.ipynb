{
 "cells": [
  {
   "cell_type": "code",
   "execution_count": 1,
   "metadata": {},
   "outputs": [],
   "source": [
    "%load_ext autoreload\n",
    "%autoreload 2"
   ]
  },
  {
   "cell_type": "markdown",
   "metadata": {},
   "source": [
    "## Imports"
   ]
  },
  {
   "cell_type": "code",
   "execution_count": 3,
   "metadata": {},
   "outputs": [],
   "source": [
    "import torch\n",
    "import kagglehub\n",
    "import pandas as pd\n",
    "from data_loader import CustomDataLoader\n",
    "from train import TrainingLoop\n",
    "from eval import Evaluate\n",
    "import torch.nn.functional as F"
   ]
  },
  {
   "cell_type": "markdown",
   "metadata": {},
   "source": [
    "## Downoad Dataset"
   ]
  },
  {
   "cell_type": "code",
   "execution_count": 26,
   "metadata": {},
   "outputs": [
    {
     "name": "stdout",
     "output_type": "stream",
     "text": [
      "Path to dataset files: /Users/jaylodha/.cache/kagglehub/datasets/mdismielhossenabir/sentiment-analysis/versions/1\n"
     ]
    }
   ],
   "source": [
    "# Download latest version of test dataset\n",
    "test_path = kagglehub.dataset_download(\"mdismielhossenabir/sentiment-analysis\")\n",
    "\n",
    "print(\"Path to dataset files:\", test_path)"
   ]
  },
  {
   "cell_type": "code",
   "execution_count": 21,
   "metadata": {},
   "outputs": [
    {
     "name": "stdout",
     "output_type": "stream",
     "text": [
      "Path to dataset files: /Users/jaylodha/.cache/kagglehub/datasets/jp797498e/twitter-entity-sentiment-analysis/versions/2\n"
     ]
    }
   ],
   "source": [
    "# Download the dataset- this will have the train and val sets\n",
    "path = kagglehub.dataset_download(\"jp797498e/twitter-entity-sentiment-analysis\")\n",
    "\n",
    "print(\"Path to dataset files:\", path)"
   ]
  },
  {
   "cell_type": "markdown",
   "metadata": {},
   "source": [
    "## Read data into CSV files"
   ]
  },
  {
   "cell_type": "markdown",
   "metadata": {},
   "source": [
    "#### load the train and val dfs first"
   ]
  },
  {
   "cell_type": "code",
   "execution_count": 22,
   "metadata": {},
   "outputs": [],
   "source": [
    "train_df = pd.read_csv(f\"{path}/twitter_training.csv\", header = None)\n",
    "val_df = pd.read_csv(f\"{path}/twitter_validation.csv\", header = None)"
   ]
  },
  {
   "cell_type": "code",
   "execution_count": 23,
   "metadata": {},
   "outputs": [
    {
     "data": {
      "text/html": [
       "<div>\n",
       "<style scoped>\n",
       "    .dataframe tbody tr th:only-of-type {\n",
       "        vertical-align: middle;\n",
       "    }\n",
       "\n",
       "    .dataframe tbody tr th {\n",
       "        vertical-align: top;\n",
       "    }\n",
       "\n",
       "    .dataframe thead th {\n",
       "        text-align: right;\n",
       "    }\n",
       "</style>\n",
       "<table border=\"1\" class=\"dataframe\">\n",
       "  <thead>\n",
       "    <tr style=\"text-align: right;\">\n",
       "      <th></th>\n",
       "      <th>0</th>\n",
       "      <th>1</th>\n",
       "      <th>2</th>\n",
       "      <th>3</th>\n",
       "    </tr>\n",
       "  </thead>\n",
       "  <tbody>\n",
       "    <tr>\n",
       "      <th>0</th>\n",
       "      <td>2401</td>\n",
       "      <td>Borderlands</td>\n",
       "      <td>Positive</td>\n",
       "      <td>im getting on borderlands and i will murder yo...</td>\n",
       "    </tr>\n",
       "    <tr>\n",
       "      <th>1</th>\n",
       "      <td>2401</td>\n",
       "      <td>Borderlands</td>\n",
       "      <td>Positive</td>\n",
       "      <td>I am coming to the borders and I will kill you...</td>\n",
       "    </tr>\n",
       "    <tr>\n",
       "      <th>2</th>\n",
       "      <td>2401</td>\n",
       "      <td>Borderlands</td>\n",
       "      <td>Positive</td>\n",
       "      <td>im getting on borderlands and i will kill you ...</td>\n",
       "    </tr>\n",
       "    <tr>\n",
       "      <th>3</th>\n",
       "      <td>2401</td>\n",
       "      <td>Borderlands</td>\n",
       "      <td>Positive</td>\n",
       "      <td>im coming on borderlands and i will murder you...</td>\n",
       "    </tr>\n",
       "    <tr>\n",
       "      <th>4</th>\n",
       "      <td>2401</td>\n",
       "      <td>Borderlands</td>\n",
       "      <td>Positive</td>\n",
       "      <td>im getting on borderlands 2 and i will murder ...</td>\n",
       "    </tr>\n",
       "  </tbody>\n",
       "</table>\n",
       "</div>"
      ],
      "text/plain": [
       "      0            1         2  \\\n",
       "0  2401  Borderlands  Positive   \n",
       "1  2401  Borderlands  Positive   \n",
       "2  2401  Borderlands  Positive   \n",
       "3  2401  Borderlands  Positive   \n",
       "4  2401  Borderlands  Positive   \n",
       "\n",
       "                                                   3  \n",
       "0  im getting on borderlands and i will murder yo...  \n",
       "1  I am coming to the borders and I will kill you...  \n",
       "2  im getting on borderlands and i will kill you ...  \n",
       "3  im coming on borderlands and i will murder you...  \n",
       "4  im getting on borderlands 2 and i will murder ...  "
      ]
     },
     "execution_count": 23,
     "metadata": {},
     "output_type": "execute_result"
    }
   ],
   "source": [
    "train_df.head()"
   ]
  },
  {
   "cell_type": "markdown",
   "metadata": {},
   "source": [
    "#### load the test df- also apply some post processing to esnure consistent column names"
   ]
  },
  {
   "cell_type": "code",
   "execution_count": 27,
   "metadata": {},
   "outputs": [],
   "source": [
    "test_df = pd.read_csv(f\"{test_path}/sentiment_analysis.csv\")"
   ]
  },
  {
   "cell_type": "code",
   "execution_count": 28,
   "metadata": {},
   "outputs": [],
   "source": [
    "# Apply camel casing\n",
    "test_df['sentiment'] = test_df['sentiment'].str.capitalize()"
   ]
  },
  {
   "cell_type": "code",
   "execution_count": 29,
   "metadata": {},
   "outputs": [],
   "source": [
    "test_df.rename(columns={'sentiment': 2}, inplace=True)\n",
    "test_df.rename(columns={'text': 3}, inplace=True)"
   ]
  },
  {
   "cell_type": "code",
   "execution_count": 31,
   "metadata": {},
   "outputs": [
    {
     "data": {
      "text/html": [
       "<div>\n",
       "<style scoped>\n",
       "    .dataframe tbody tr th:only-of-type {\n",
       "        vertical-align: middle;\n",
       "    }\n",
       "\n",
       "    .dataframe tbody tr th {\n",
       "        vertical-align: top;\n",
       "    }\n",
       "\n",
       "    .dataframe thead th {\n",
       "        text-align: right;\n",
       "    }\n",
       "</style>\n",
       "<table border=\"1\" class=\"dataframe\">\n",
       "  <thead>\n",
       "    <tr style=\"text-align: right;\">\n",
       "      <th></th>\n",
       "      <th>Year</th>\n",
       "      <th>Month</th>\n",
       "      <th>Day</th>\n",
       "      <th>Time of Tweet</th>\n",
       "      <th>3</th>\n",
       "      <th>2</th>\n",
       "      <th>Platform</th>\n",
       "    </tr>\n",
       "  </thead>\n",
       "  <tbody>\n",
       "    <tr>\n",
       "      <th>0</th>\n",
       "      <td>2018</td>\n",
       "      <td>8</td>\n",
       "      <td>18</td>\n",
       "      <td>morning</td>\n",
       "      <td>What a great day!!! Looks like dream.</td>\n",
       "      <td>Positive</td>\n",
       "      <td>Twitter</td>\n",
       "    </tr>\n",
       "    <tr>\n",
       "      <th>1</th>\n",
       "      <td>2018</td>\n",
       "      <td>8</td>\n",
       "      <td>18</td>\n",
       "      <td>noon</td>\n",
       "      <td>I feel sorry, I miss you here in the sea beach</td>\n",
       "      <td>Positive</td>\n",
       "      <td>Facebook</td>\n",
       "    </tr>\n",
       "    <tr>\n",
       "      <th>2</th>\n",
       "      <td>2017</td>\n",
       "      <td>8</td>\n",
       "      <td>18</td>\n",
       "      <td>night</td>\n",
       "      <td>Don't angry me</td>\n",
       "      <td>Negative</td>\n",
       "      <td>Facebook</td>\n",
       "    </tr>\n",
       "    <tr>\n",
       "      <th>3</th>\n",
       "      <td>2022</td>\n",
       "      <td>6</td>\n",
       "      <td>8</td>\n",
       "      <td>morning</td>\n",
       "      <td>We attend in the class just for listening teac...</td>\n",
       "      <td>Negative</td>\n",
       "      <td>Facebook</td>\n",
       "    </tr>\n",
       "    <tr>\n",
       "      <th>4</th>\n",
       "      <td>2022</td>\n",
       "      <td>6</td>\n",
       "      <td>8</td>\n",
       "      <td>noon</td>\n",
       "      <td>Those who want to go, let them go</td>\n",
       "      <td>Negative</td>\n",
       "      <td>Instagram</td>\n",
       "    </tr>\n",
       "  </tbody>\n",
       "</table>\n",
       "</div>"
      ],
      "text/plain": [
       "   Year  Month  Day Time of Tweet  \\\n",
       "0  2018      8   18       morning   \n",
       "1  2018      8   18          noon   \n",
       "2  2017      8   18         night   \n",
       "3  2022      6    8       morning   \n",
       "4  2022      6    8          noon   \n",
       "\n",
       "                                                   3         2     Platform  \n",
       "0              What a great day!!! Looks like dream.  Positive    Twitter    \n",
       "1     I feel sorry, I miss you here in the sea beach  Positive    Facebook   \n",
       "2                                     Don't angry me  Negative     Facebook  \n",
       "3  We attend in the class just for listening teac...  Negative    Facebook   \n",
       "4                  Those who want to go, let them go  Negative   Instagram   "
      ]
     },
     "execution_count": 31,
     "metadata": {},
     "output_type": "execute_result"
    }
   ],
   "source": [
    "test_df.head()"
   ]
  },
  {
   "cell_type": "markdown",
   "metadata": {},
   "source": [
    "## Load data in CustomDataLoader"
   ]
  },
  {
   "cell_type": "code",
   "execution_count": 32,
   "metadata": {},
   "outputs": [],
   "source": [
    "text_col = 3    # Column index for input text\n",
    "label_col = 2   # Column index for labels\n",
    "batch_size = 8 # Batch size for training and validation\n",
    "\n",
    "# Initialize CustomDataLoader\n",
    "custom_loader = CustomDataLoader(train_df, val_df, test_df, text_col, label_col, batch_size)\n",
    "\n",
    "# Get train, validation and test loaders\n",
    "train_loader = custom_loader.get_train_loader(shuffle=True)\n",
    "val_loader = custom_loader.get_val_loader(shuffle=True)\n",
    "test_loader = custom_loader.get_test_loader(shuffle=False)"
   ]
  },
  {
   "cell_type": "markdown",
   "metadata": {},
   "source": [
    "## Define Model Params"
   ]
  },
  {
   "cell_type": "code",
   "execution_count": 22,
   "metadata": {},
   "outputs": [],
   "source": [
    "model_params = {\n",
    "    \"vocab_size\": train_loader.dataset.vocab_size,\n",
    "    \"num_embeddings\": 64,\n",
    "    \"block_size\": train_loader.dataset.block_size,\n",
    "    \"num_heads\": 4,\n",
    "    \"num_layers\": 4,\n",
    "    \"output_classes\": len(train_loader.dataset.labels_lookup_dict),\n",
    "    \"dropout\": 0.2,\n",
    "    \"device\": 'cuda' if torch.cuda.is_available() else 'cpu'\n",
    "}"
   ]
  },
  {
   "cell_type": "markdown",
   "metadata": {},
   "source": [
    "## Define Training Params"
   ]
  },
  {
   "cell_type": "code",
   "execution_count": 23,
   "metadata": {},
   "outputs": [],
   "source": [
    "train_params = {\n",
    "    \"num_epochs\": 100,\n",
    "    \"eval_interval\": 10,\n",
    "    \"eval_iters\": 10,\n",
    "    \"learning_rate\": 0.01\n",
    "}"
   ]
  },
  {
   "cell_type": "markdown",
   "metadata": {},
   "source": [
    "## Training Loop"
   ]
  },
  {
   "cell_type": "code",
   "execution_count": 24,
   "metadata": {},
   "outputs": [
    {
     "name": "stderr",
     "output_type": "stream",
     "text": [
      "/home/adityadev/GPTDecoder/train.py:86: FutureWarning: You are using `torch.load` with `weights_only=False` (the current default value), which uses the default pickle module implicitly. It is possible to construct malicious pickle data which will execute arbitrary code during unpickling (See https://github.com/pytorch/pytorch/blob/main/SECURITY.md#untrusted-models for more details). In a future release, the default value for `weights_only` will be flipped to `True`. This limits the functions that could be executed during unpickling. Arbitrary objects will no longer be allowed to be loaded via this mode unless they are explicitly allowlisted by the user via `torch.serialization.add_safe_globals`. We recommend you start setting `weights_only=True` for any use case where you don't have full control of the loaded file. Please open an issue on GitHub for any issues related to this experimental feature.\n",
      "  checkpoint = torch.load(load_path, map_location=self.device)  # Ensure checkpoint is loaded to the correct device\n",
      "\u001b[32m2024-11-23 20:34:58.091\u001b[0m | \u001b[1mINFO    \u001b[0m | \u001b[36mtrain\u001b[0m:\u001b[36mload_checkpoint\u001b[0m:\u001b[36m91\u001b[0m - \u001b[1mCheckpoint loaded from: /home/adityadev/GPTDecoder/models_v1/best_model.pth, resuming from epoch 0\u001b[0m\n",
      "\u001b[32m2024-11-23 20:34:58.801\u001b[0m | \u001b[1mINFO    \u001b[0m | \u001b[36mtrain\u001b[0m:\u001b[36mtrain\u001b[0m:\u001b[36m130\u001b[0m - \u001b[1mFor epoch 0: Train loss-> 1.3554059267044067 | Val loss-> 1.3709877729415894\u001b[0m\n",
      "\u001b[32m2024-11-23 20:34:59.095\u001b[0m | \u001b[1mINFO    \u001b[0m | \u001b[36mtrain\u001b[0m:\u001b[36msave_checkpoint\u001b[0m:\u001b[36m72\u001b[0m - \u001b[1mCheckpoint saved: ./models_v1/checkpoint_epoch_0.pth\u001b[0m\n",
      "\u001b[32m2024-11-23 20:35:00.911\u001b[0m | \u001b[1mINFO    \u001b[0m | \u001b[36mtrain\u001b[0m:\u001b[36mtrain\u001b[0m:\u001b[36m130\u001b[0m - \u001b[1mFor epoch 10: Train loss-> 1.420730435848236 | Val loss-> 1.3868310570716857\u001b[0m\n",
      "\u001b[32m2024-11-23 20:35:01.212\u001b[0m | \u001b[1mINFO    \u001b[0m | \u001b[36mtrain\u001b[0m:\u001b[36msave_checkpoint\u001b[0m:\u001b[36m72\u001b[0m - \u001b[1mCheckpoint saved: ./models_v1/checkpoint_epoch_10.pth\u001b[0m\n",
      "\u001b[32m2024-11-23 20:35:02.969\u001b[0m | \u001b[1mINFO    \u001b[0m | \u001b[36mtrain\u001b[0m:\u001b[36mtrain\u001b[0m:\u001b[36m130\u001b[0m - \u001b[1mFor epoch 20: Train loss-> 1.3397194743156433 | Val loss-> 1.3691234111785888\u001b[0m\n",
      "\u001b[32m2024-11-23 20:35:03.269\u001b[0m | \u001b[1mINFO    \u001b[0m | \u001b[36mtrain\u001b[0m:\u001b[36msave_checkpoint\u001b[0m:\u001b[36m72\u001b[0m - \u001b[1mCheckpoint saved: ./models_v1/checkpoint_epoch_20.pth\u001b[0m\n",
      "\u001b[32m2024-11-23 20:35:05.018\u001b[0m | \u001b[1mINFO    \u001b[0m | \u001b[36mtrain\u001b[0m:\u001b[36mtrain\u001b[0m:\u001b[36m130\u001b[0m - \u001b[1mFor epoch 30: Train loss-> 1.507503831386566 | Val loss-> 1.4411766290664674\u001b[0m\n",
      "\u001b[32m2024-11-23 20:35:05.319\u001b[0m | \u001b[1mINFO    \u001b[0m | \u001b[36mtrain\u001b[0m:\u001b[36msave_checkpoint\u001b[0m:\u001b[36m72\u001b[0m - \u001b[1mCheckpoint saved: ./models_v1/checkpoint_epoch_30.pth\u001b[0m\n",
      "\u001b[32m2024-11-23 20:35:07.100\u001b[0m | \u001b[1mINFO    \u001b[0m | \u001b[36mtrain\u001b[0m:\u001b[36mtrain\u001b[0m:\u001b[36m130\u001b[0m - \u001b[1mFor epoch 40: Train loss-> 1.4937053799629212 | Val loss-> 1.4353397965431214\u001b[0m\n",
      "\u001b[32m2024-11-23 20:35:07.399\u001b[0m | \u001b[1mINFO    \u001b[0m | \u001b[36mtrain\u001b[0m:\u001b[36msave_checkpoint\u001b[0m:\u001b[36m72\u001b[0m - \u001b[1mCheckpoint saved: ./models_v1/checkpoint_epoch_40.pth\u001b[0m\n",
      "\u001b[32m2024-11-23 20:35:09.144\u001b[0m | \u001b[1mINFO    \u001b[0m | \u001b[36mtrain\u001b[0m:\u001b[36mtrain\u001b[0m:\u001b[36m130\u001b[0m - \u001b[1mFor epoch 50: Train loss-> 1.4190797805786133 | Val loss-> 1.5391659498214723\u001b[0m\n",
      "\u001b[32m2024-11-23 20:35:09.412\u001b[0m | \u001b[1mINFO    \u001b[0m | \u001b[36mtrain\u001b[0m:\u001b[36msave_checkpoint\u001b[0m:\u001b[36m72\u001b[0m - \u001b[1mCheckpoint saved: ./models_v1/checkpoint_epoch_50.pth\u001b[0m\n",
      "\u001b[32m2024-11-23 20:35:11.221\u001b[0m | \u001b[1mINFO    \u001b[0m | \u001b[36mtrain\u001b[0m:\u001b[36mtrain\u001b[0m:\u001b[36m130\u001b[0m - \u001b[1mFor epoch 60: Train loss-> 1.4115800857543945 | Val loss-> 1.4732439875602723\u001b[0m\n",
      "\u001b[32m2024-11-23 20:35:11.526\u001b[0m | \u001b[1mINFO    \u001b[0m | \u001b[36mtrain\u001b[0m:\u001b[36msave_checkpoint\u001b[0m:\u001b[36m72\u001b[0m - \u001b[1mCheckpoint saved: ./models_v1/checkpoint_epoch_60.pth\u001b[0m\n",
      "\u001b[32m2024-11-23 20:35:13.354\u001b[0m | \u001b[1mINFO    \u001b[0m | \u001b[36mtrain\u001b[0m:\u001b[36mtrain\u001b[0m:\u001b[36m130\u001b[0m - \u001b[1mFor epoch 70: Train loss-> 1.3691722631454468 | Val loss-> 1.3835262298583983\u001b[0m\n",
      "\u001b[32m2024-11-23 20:35:13.647\u001b[0m | \u001b[1mINFO    \u001b[0m | \u001b[36mtrain\u001b[0m:\u001b[36msave_checkpoint\u001b[0m:\u001b[36m72\u001b[0m - \u001b[1mCheckpoint saved: ./models_v1/checkpoint_epoch_70.pth\u001b[0m\n",
      "\u001b[32m2024-11-23 20:35:15.458\u001b[0m | \u001b[1mINFO    \u001b[0m | \u001b[36mtrain\u001b[0m:\u001b[36mtrain\u001b[0m:\u001b[36m130\u001b[0m - \u001b[1mFor epoch 80: Train loss-> 1.3765205025672913 | Val loss-> 1.3766580939292907\u001b[0m\n",
      "\u001b[32m2024-11-23 20:35:15.768\u001b[0m | \u001b[1mINFO    \u001b[0m | \u001b[36mtrain\u001b[0m:\u001b[36msave_checkpoint\u001b[0m:\u001b[36m72\u001b[0m - \u001b[1mCheckpoint saved: ./models_v1/checkpoint_epoch_80.pth\u001b[0m\n",
      "\u001b[32m2024-11-23 20:35:17.541\u001b[0m | \u001b[1mINFO    \u001b[0m | \u001b[36mtrain\u001b[0m:\u001b[36mtrain\u001b[0m:\u001b[36m130\u001b[0m - \u001b[1mFor epoch 90: Train loss-> 1.3545093417167664 | Val loss-> 1.3811252236366272\u001b[0m\n",
      "\u001b[32m2024-11-23 20:35:17.844\u001b[0m | \u001b[1mINFO    \u001b[0m | \u001b[36mtrain\u001b[0m:\u001b[36msave_checkpoint\u001b[0m:\u001b[36m72\u001b[0m - \u001b[1mCheckpoint saved: ./models_v1/checkpoint_epoch_90.pth\u001b[0m\n"
     ]
    }
   ],
   "source": [
    "save_models_path = \"./models_v1\"\n",
    "TrainingLoop(model_params, train_params).train(train_loader, val_loader, save_models_path, resume_path=\"/home/adityadev/GPTDecoder/models_v1/best_model.pth\")"
   ]
  },
  {
   "cell_type": "markdown",
   "metadata": {},
   "source": [
    "## Evaluate Best model- load it from checkpoint"
   ]
  },
  {
   "cell_type": "markdown",
   "metadata": {},
   "source": [
    "#### Evaluate first on the validation set"
   ]
  },
  {
   "cell_type": "code",
   "execution_count": 25,
   "metadata": {},
   "outputs": [
    {
     "name": "stderr",
     "output_type": "stream",
     "text": [
      "/home/adityadev/GPTDecoder/eval.py:23: FutureWarning: You are using `torch.load` with `weights_only=False` (the current default value), which uses the default pickle module implicitly. It is possible to construct malicious pickle data which will execute arbitrary code during unpickling (See https://github.com/pytorch/pytorch/blob/main/SECURITY.md#untrusted-models for more details). In a future release, the default value for `weights_only` will be flipped to `True`. This limits the functions that could be executed during unpickling. Arbitrary objects will no longer be allowed to be loaded via this mode unless they are explicitly allowlisted by the user via `torch.serialization.add_safe_globals`. We recommend you start setting `weights_only=True` for any use case where you don't have full control of the loaded file. Please open an issue on GitHub for any issues related to this experimental feature.\n",
      "  checkpoint = torch.load(self.best_model_path, map_location=self.device)\n",
      "\u001b[32m2024-11-23 20:35:51.928\u001b[0m | \u001b[1mINFO    \u001b[0m | \u001b[36meval\u001b[0m:\u001b[36mload_best_model\u001b[0m:\u001b[36m27\u001b[0m - \u001b[1mBest model loaded from /home/adityadev/GPTDecoder/models_v1/best_model.pth\u001b[0m\n",
      "/home/adityadev/.pyenv/versions/3.10.12/envs/GPTDecoder/lib/python3.10/site-packages/sklearn/metrics/_classification.py:1531: UndefinedMetricWarning: Precision is ill-defined and being set to 0.0 in labels with no predicted samples. Use `zero_division` parameter to control this behavior.\n",
      "  _warn_prf(average, modifier, f\"{metric.capitalize()} is\", len(result))\n",
      "/home/adityadev/.pyenv/versions/3.10.12/envs/GPTDecoder/lib/python3.10/site-packages/sklearn/metrics/_classification.py:1531: UndefinedMetricWarning: Precision is ill-defined and being set to 0.0 in labels with no predicted samples. Use `zero_division` parameter to control this behavior.\n",
      "  _warn_prf(average, modifier, f\"{metric.capitalize()} is\", len(result))\n",
      "/home/adityadev/.pyenv/versions/3.10.12/envs/GPTDecoder/lib/python3.10/site-packages/sklearn/metrics/_classification.py:1531: UndefinedMetricWarning: Precision is ill-defined and being set to 0.0 in labels with no predicted samples. Use `zero_division` parameter to control this behavior.\n",
      "  _warn_prf(average, modifier, f\"{metric.capitalize()} is\", len(result))\n"
     ]
    }
   ],
   "source": [
    "val_loader = custom_loader.get_val_loader(shuffle=False)\n",
    "best_model_path = \"/home/adityadev/GPTDecoder/models_v1/best_model.pth\"\n",
    "label_mapping = train_loader.dataset.reverse_labels_lookup_dict\n",
    "\n",
    "report = Evaluate(model_params, best_model_path).evaluate(val_loader, label_mapping)"
   ]
  },
  {
   "cell_type": "code",
   "execution_count": 26,
   "metadata": {},
   "outputs": [
    {
     "name": "stdout",
     "output_type": "stream",
     "text": [
      "              precision    recall  f1-score   support\n",
      "\n",
      "  Irrelevant     0.0000    0.0000    0.0000       172\n",
      "    Negative     0.0000    0.0000    0.0000       266\n",
      "     Neutral     0.3067    0.2561    0.2792       285\n",
      "    Positive     0.2754    0.7545    0.4035       277\n",
      "\n",
      "    accuracy                         0.2820      1000\n",
      "   macro avg     0.1455    0.2527    0.1707      1000\n",
      "weighted avg     0.1637    0.2820    0.1913      1000\n",
      "\n"
     ]
    }
   ],
   "source": [
    "print(report)"
   ]
  },
  {
   "cell_type": "markdown",
   "metadata": {},
   "source": [
    "#### Also evaluate on the test set"
   ]
  },
  {
   "cell_type": "code",
   "execution_count": null,
   "metadata": {},
   "outputs": [],
   "source": [
    "report = Evaluate(model_params, best_model_path).evaluate(test_loader, label_mapping)"
   ]
  },
  {
   "cell_type": "markdown",
   "metadata": {},
   "source": [
    "## Infer on Raw text"
   ]
  },
  {
   "cell_type": "code",
   "execution_count": 34,
   "metadata": {},
   "outputs": [
    {
     "name": "stderr",
     "output_type": "stream",
     "text": [
      "/home/adityadev/GPTDecoder/eval.py:23: FutureWarning: You are using `torch.load` with `weights_only=False` (the current default value), which uses the default pickle module implicitly. It is possible to construct malicious pickle data which will execute arbitrary code during unpickling (See https://github.com/pytorch/pytorch/blob/main/SECURITY.md#untrusted-models for more details). In a future release, the default value for `weights_only` will be flipped to `True`. This limits the functions that could be executed during unpickling. Arbitrary objects will no longer be allowed to be loaded via this mode unless they are explicitly allowlisted by the user via `torch.serialization.add_safe_globals`. We recommend you start setting `weights_only=True` for any use case where you don't have full control of the loaded file. Please open an issue on GitHub for any issues related to this experimental feature.\n",
      "  checkpoint = torch.load(self.best_model_path, map_location=self.device)\n",
      "\u001b[32m2024-11-23 20:42:12.094\u001b[0m | \u001b[1mINFO    \u001b[0m | \u001b[36meval\u001b[0m:\u001b[36mload_best_model\u001b[0m:\u001b[36m27\u001b[0m - \u001b[1mBest model loaded from /home/adityadev/GPTDecoder/models_v1/best_model.pth\u001b[0m\n"
     ]
    }
   ],
   "source": [
    "model = Evaluate(model_params, best_model_path).model"
   ]
  },
  {
   "cell_type": "code",
   "execution_count": null,
   "metadata": {},
   "outputs": [],
   "source": [
    "def infer_on_raw_text(raw_text: str) -> str:\n",
    "\n",
    "  encoded_inp = torch.tensor(train_loader.dataset.encode_text(raw_text), dtype=torch.long, device=model_params.get('device')).unsqueeze(0)\n",
    "  logits = model(encoded_inp)\n",
    "  probs = F.softmax(logits[0], dim=-1)\n",
    "  # Find the index of the largest element\n",
    "  max_index = torch.argmax(probs, dim=1)\n",
    "\n",
    "  label = label_mapping[max_index.item()]\n",
    "  return label"
   ]
  },
  {
   "cell_type": "code",
   "execution_count": 36,
   "metadata": {},
   "outputs": [
    {
     "data": {
      "text/plain": [
       "'Positive'"
      ]
     },
     "execution_count": 36,
     "metadata": {},
     "output_type": "execute_result"
    }
   ],
   "source": [
    "text = \"I'm very happy today\"\n",
    "infer_on_raw_text(text)"
   ]
  },
  {
   "cell_type": "code",
   "execution_count": null,
   "metadata": {},
   "outputs": [],
   "source": []
  },
  {
   "cell_type": "code",
   "execution_count": null,
   "metadata": {},
   "outputs": [],
   "source": []
  }
 ],
 "metadata": {
  "kernelspec": {
   "display_name": "gptdecoder",
   "language": "python",
   "name": "python3"
  },
  "language_info": {
   "codemirror_mode": {
    "name": "ipython",
    "version": 3
   },
   "file_extension": ".py",
   "mimetype": "text/x-python",
   "name": "python",
   "nbconvert_exporter": "python",
   "pygments_lexer": "ipython3",
   "version": "3.10.12"
  }
 },
 "nbformat": 4,
 "nbformat_minor": 2
}
